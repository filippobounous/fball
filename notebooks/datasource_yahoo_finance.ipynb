{
 "cells": [
  {
   "cell_type": "code",
   "execution_count": null,
   "id": "07521334",
   "metadata": {},
   "outputs": [],
   "source": [
    "import datetime\n",
    "import pandas as pd\n",
    "import sys\n",
    "import yfinance as yf\n",
    "\n",
    "sys.path.append('..')"
   ]
  },
  {
   "cell_type": "code",
   "execution_count": null,
   "id": "3a6922b4",
   "metadata": {},
   "outputs": [],
   "source": [
    "ticker = yf.Ticker('0P0000OQVL.F')\n",
    "# data = ticker.history(start=datetime.datetime(1995,1,1), end=datetime.datetime(2005,12,31))"
   ]
  },
  {
   "cell_type": "code",
   "execution_count": null,
   "id": "aacc71ce",
   "metadata": {},
   "outputs": [],
   "source": [
    "ticker_code='0P0000OQVL.F'\n",
    "ticker = yf.Ticker(ticker_code)\n",
    "df = ticker.history(\n",
    "    start=datetime.datetime(2025,4,1),\n",
    "    end=datetime.date.today()\n",
    ")"
   ]
  },
  {
   "cell_type": "code",
   "execution_count": null,
   "id": "3dcce70e",
   "metadata": {},
   "outputs": [],
   "source": [
    "df"
   ]
  },
  {
   "cell_type": "code",
   "execution_count": null,
   "id": "1d8c8130",
   "metadata": {},
   "outputs": [],
   "source": []
  }
 ],
 "metadata": {
  "kernelspec": {
   "display_name": "Python 3 (ipykernel)",
   "language": "python",
   "name": "python3"
  },
  "language_info": {
   "codemirror_mode": {
    "name": "ipython",
    "version": 3
   },
   "file_extension": ".py",
   "mimetype": "text/x-python",
   "name": "python",
   "nbconvert_exporter": "python",
   "pygments_lexer": "ipython3",
   "version": "3.11.4"
  }
 },
 "nbformat": 4,
 "nbformat_minor": 5
}
