{
 "cells": [
  {
   "cell_type": "code",
   "execution_count": null,
   "id": "3105780c",
   "metadata": {},
   "outputs": [],
   "source": [
    "import datetime\n",
    "import pandas as pd\n",
    "import requests\n",
    "import sys\n",
    "\n",
    "sys.path.append('..')"
   ]
  },
  {
   "cell_type": "code",
   "execution_count": null,
   "id": "1bb94cd9",
   "metadata": {},
   "outputs": [],
   "source": [
    "test_isin = \"IE00B57L5Q19\"\n",
    "test_symbol = \"0P0000OQVL\""
   ]
  },
  {
   "cell_type": "code",
   "execution_count": null,
   "id": "2ef8604f",
   "metadata": {},
   "outputs": [],
   "source": [
    "from twelvedata import TDClient\n",
    "from dotenv import load_dotenv\n",
    "import os\n",
    "\n",
    "load_dotenv()\n",
    "td = TDClient(apikey=os.getenv('TWELVE_DATA_API_KEY'))\n",
    "\n",
    "td_intervals = ['1min', '5min', '15min', '30min', '45min', '1h', '2h', '4h', '8h', '1day', '1week', '1month']"
   ]
  },
  {
   "cell_type": "code",
   "execution_count": null,
   "id": "703e08a7",
   "metadata": {},
   "outputs": [],
   "source": [
    "interval = '1day'\n",
    "if interval in td_intervals:\n",
    "    df = td.time_series(\n",
    "        symbol = \"AAPL\",\n",
    "        interval = interval\n",
    "    ).as_csv()"
   ]
  },
  {
   "cell_type": "code",
   "execution_count": null,
   "id": "cecfdb40",
   "metadata": {},
   "outputs": [],
   "source": [
    "df"
   ]
  },
  {
   "cell_type": "code",
   "execution_count": null,
   "id": "24b3660e",
   "metadata": {},
   "outputs": [],
   "source": []
  }
 ],
 "metadata": {
  "kernelspec": {
   "display_name": "Python 3 (ipykernel)",
   "language": "python",
   "name": "python3"
  },
  "language_info": {
   "codemirror_mode": {
    "name": "ipython",
    "version": 3
   },
   "file_extension": ".py",
   "mimetype": "text/x-python",
   "name": "python",
   "nbconvert_exporter": "python",
   "pygments_lexer": "ipython3",
   "version": "3.11.4"
  }
 },
 "nbformat": 4,
 "nbformat_minor": 5
}
