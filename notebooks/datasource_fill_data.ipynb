{
 "cells": [
  {
   "cell_type": "code",
   "execution_count": null,
   "id": "7dd27851",
   "metadata": {},
   "outputs": [],
   "source": [
    "import datetime\n",
    "import pandas as pd\n",
    "import requests\n",
    "import sys\n",
    "\n",
    "sys.path.append('..')"
   ]
  },
  {
   "cell_type": "code",
   "execution_count": null,
   "id": "f8173484",
   "metadata": {},
   "outputs": [],
   "source": [
    "from investment.datasource.registry import (\n",
    "    AlphaVantageDataSource,\n",
    "    BloombergDataSource,\n",
    "    LocalDataSource,\n",
    "    OpenFigiDataSource,\n",
    "    TwelveDataDataSource,\n",
    "    YahooFinanceDataSource,\n",
    "    all_data_source,\n",
    ")"
   ]
  },
  {
   "cell_type": "code",
   "execution_count": null,
   "id": "ef7175ee",
   "metadata": {},
   "outputs": [],
   "source": [
    "# LocalDataSource().update_security_mappings()"
   ]
  },
  {
   "cell_type": "code",
   "execution_count": null,
   "id": "4cdf5058",
   "metadata": {
    "scrolled": true
   },
   "outputs": [],
   "source": [
    "YahooFinanceDataSource().update_all_securities()"
   ]
  },
  {
   "cell_type": "code",
   "execution_count": null,
   "id": "d035f219",
   "metadata": {},
   "outputs": [],
   "source": [
    "# for i in all_data_source:\n",
    "#     print(i.name)\n",
    "#     try:\n",
    "#         i().update_all_securities()\n",
    "#     except Exception as e:\n",
    "#         print(e)"
   ]
  },
  {
   "cell_type": "code",
   "execution_count": null,
   "id": "0a4839f9",
   "metadata": {},
   "outputs": [],
   "source": []
  }
 ],
 "metadata": {
  "kernelspec": {
   "display_name": "Python 3 (ipykernel)",
   "language": "python",
   "name": "python3"
  },
  "language_info": {
   "codemirror_mode": {
    "name": "ipython",
    "version": 3
   },
   "file_extension": ".py",
   "mimetype": "text/x-python",
   "name": "python",
   "nbconvert_exporter": "python",
   "pygments_lexer": "ipython3",
   "version": "3.11.4"
  }
 },
 "nbformat": 4,
 "nbformat_minor": 5
}
